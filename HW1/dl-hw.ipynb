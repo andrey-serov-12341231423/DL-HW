{
  "nbformat": 4,
  "nbformat_minor": 0,
  "metadata": {
    "accelerator": "GPU",
    "colab": {
      "name": "dl-hw.ipynb",
      "provenance": [],
      "collapsed_sections": []
    },
    "kernelspec": {
      "display_name": "Python 3",
      "language": "python",
      "name": "python3"
    },
    "language_info": {
      "codemirror_mode": {
        "name": "ipython",
        "version": 3
      },
      "file_extension": ".py",
      "mimetype": "text/x-python",
      "name": "python",
      "nbconvert_exporter": "python",
      "pygments_lexer": "ipython3",
      "version": "3.8.5"
    }
  },
  "cells": [
    {
      "cell_type": "markdown",
      "metadata": {
        "id": "CqWw3aP7wgOL"
      },
      "source": [
        "# 0. Подготовка данных (1 балл)\n",
        "\n",
        "Данные представляют собой набор первых 10 букв от A до J латинского алфавита (каждая буква - класс), написанных разными шрифтами. Ваша задача - написать классификатор для этих данных, определяющий буквы на изображении"
      ]
    },
    {
      "cell_type": "code",
      "metadata": {
        "colab": {
          "base_uri": "https://localhost:8080/"
        },
        "id": "7id2yGEAwgOS",
        "outputId": "d738dd27-5704-488c-c088-b49c72c456f6"
      },
      "source": [
        "!wget -N http://yaroslavvb.com/upload/notMNIST/notMNIST_large.tar.gz\n",
        "!tar -xf notMNIST_large.tar.gz"
      ],
      "execution_count": 1,
      "outputs": [
        {
          "output_type": "stream",
          "text": [
            "--2021-02-14 14:49:55--  http://yaroslavvb.com/upload/notMNIST/notMNIST_large.tar.gz\n",
            "Resolving yaroslavvb.com (yaroslavvb.com)... 129.121.4.193\n",
            "Connecting to yaroslavvb.com (yaroslavvb.com)|129.121.4.193|:80... connected.\n",
            "HTTP request sent, awaiting response... 304 Not Modified\n",
            "File ‘notMNIST_large.tar.gz’ not modified on server. Omitting download.\n",
            "\n"
          ],
          "name": "stdout"
        }
      ]
    },
    {
      "cell_type": "code",
      "metadata": {
        "id": "tVhJaVMqDZwn"
      },
      "source": [
        "DATA_DIR = 'notMNIST_large/'"
      ],
      "execution_count": 2,
      "outputs": []
    },
    {
      "cell_type": "code",
      "metadata": {
        "id": "bf8Pgdia_bBH"
      },
      "source": [
        "from glob import glob\n",
        "from PIL import Image\n",
        "import os\n",
        "\n",
        "for img_path in glob(f'{DATA_DIR}/**/*.png'):\n",
        "  try:\n",
        "    img = Image.open(img_path)\n",
        "  except:\n",
        "    os.remove(img_path)"
      ],
      "execution_count": 3,
      "outputs": []
    },
    {
      "cell_type": "code",
      "metadata": {
        "colab": {
          "base_uri": "https://localhost:8080/",
          "height": 613
        },
        "id": "ECDy-LErwgOV",
        "outputId": "bcc3e155-d805-4488-84b1-29484ac7d0af"
      },
      "source": [
        "%matplotlib inline\n",
        "import matplotlib.pyplot as plt\n",
        "import cv2\n",
        "\n",
        "plt.figure(figsize=(17,10))\n",
        "letter = 'A'\n",
        "img = cv2.imread(os.path.join(DATA_DIR, letter, os.listdir(f'{DATA_DIR}/{letter}/')[0]))\n",
        "plt.imshow(img)"
      ],
      "execution_count": 4,
      "outputs": [
        {
          "output_type": "execute_result",
          "data": {
            "text/plain": [
              "<matplotlib.image.AxesImage at 0x7fe992fc5b38>"
            ]
          },
          "metadata": {
            "tags": []
          },
          "execution_count": 4
        },
        {
          "output_type": "display_data",
          "data": {
            "image/png": "[encoded data removed]",
            "text/plain": [
              "<Figure size 1224x720 with 1 Axes>"
            ]
          },
          "metadata": {
            "tags": [],
            "needs_background": "light"
          }
        }
      ]
    },
    {
      "cell_type": "markdown",
      "metadata": {
        "id": "b-XmxjpiwgOV"
      },
      "source": [
        "# Модель (3 балла)"
      ]
    },
    {
      "cell_type": "code",
      "metadata": {
        "id": "hIWI5FDgwgOW"
      },
      "source": [
        "import os\n",
        "import keras\n",
        "from keras.models import Sequential\n",
        "from keras.preprocessing import image\n",
        "from keras.layers.core import Activation, Reshape, Dense, Flatten\n",
        "from keras.layers import Conv2D, MaxPool2D, InputLayer, BatchNormalization, Dropout, GlobalAveragePooling2D, GlobalMaxPool2D, LeakyReLU\n",
        "from keras.models import Model\n",
        "\n",
        "n_classes = len(os.listdir(DATA_DIR))\n",
        "\n",
        "input_shape = (28, 28, 1)\n",
        "\n",
        "\n",
        "model = keras.Sequential(\n",
        "    [\n",
        "        keras.Input(shape=input_shape),\n",
        "        BatchNormalization(),\n",
        "        Conv2D(16, kernel_size=(3, 3)),\n",
        "        BatchNormalization(),\n",
        "        LeakyReLU(0.1),\n",
        "        Conv2D(32, kernel_size=(3, 3)),\n",
        "        BatchNormalization(),\n",
        "        LeakyReLU(0.1),\n",
        "        BatchNormalization(),\n",
        "        MaxPool2D((2, 2)),\n",
        "        Conv2D(32, kernel_size=(3, 3)),\n",
        "        BatchNormalization(),\n",
        "        LeakyReLU(0.1),\n",
        "        Conv2D(64, kernel_size=(3, 3)),\n",
        "        BatchNormalization(),\n",
        "        LeakyReLU(0.1),\n",
        "        Flatten(),\n",
        "        Dense(256),\n",
        "        BatchNormalization(),\n",
        "        LeakyReLU(0.1),\n",
        "        Dense(n_classes),\n",
        "        Activation(\"softmax\"),\n",
        "    ]\n",
        ")"
      ],
      "execution_count": 5,
      "outputs": []
    },
    {
      "cell_type": "markdown",
      "metadata": {
        "id": "Gjeg3rwEHCJp"
      },
      "source": [
        "# Аугментация данных (3 балла)\n",
        "\n",
        "train/val split должен быть 9/1 !"
      ]
    },
    {
      "cell_type": "code",
      "metadata": {
        "colab": {
          "base_uri": "https://localhost:8080/"
        },
        "id": "MgXqwmWpwgOW",
        "outputId": "c2657c79-0edf-42ab-dd2d-78b9e82c5300"
      },
      "source": [
        "# Подсказка: train/val split удобно делать вот так https://stackoverflow.com/questions/53037510/can-flow-from-directory-get-train-and-validation-data-from-the-same-directory-in (самый залайканый ответ)\n",
        "\n",
        "from keras.preprocessing import image_dataset_from_directory\n",
        "\n",
        "from keras.preprocessing.image import ImageDataGenerator\n",
        "\n",
        "image_size=(28, 28)\n",
        "\n",
        "train_datagen = ImageDataGenerator(\n",
        "    rescale=1./255,\n",
        "    width_shift_range=3,\n",
        "    height_shift_range=3,\n",
        "    rotation_range=7,\n",
        "    validation_split=0.1,\n",
        ")\n",
        "\n",
        "test_datagen = ImageDataGenerator(\n",
        "    rescale=1./255, \n",
        "    validation_split=0.1,\n",
        ")\n",
        "\n",
        "train_generator = train_datagen.flow_from_directory(\n",
        "    DATA_DIR,\n",
        "    color_mode=\"grayscale\",\n",
        "    subset=\"training\",\n",
        "    seed=1,\n",
        "    shuffle=True,\n",
        "    target_size=image_size\n",
        ")\n",
        "\n",
        "validation_generator = test_datagen.flow_from_directory(\n",
        "    DATA_DIR,\n",
        "    color_mode=\"grayscale\",\n",
        "    subset=\"validation\",\n",
        "    seed=1,\n",
        "    target_size=image_size\n",
        ")"
      ],
      "execution_count": 6,
      "outputs": [
        {
          "output_type": "stream",
          "text": [
            "Found 476205 images belonging to 10 classes.\n",
            "Found 52909 images belonging to 10 classes.\n"
          ],
          "name": "stdout"
        }
      ]
    },
    {
      "cell_type": "code",
      "metadata": {
        "colab": {
          "base_uri": "https://localhost:8080/"
        },
        "id": "UbIhuNzByRwT",
        "outputId": "c2e34a15-f31e-47d1-ffb7-9875692a3de7"
      },
      "source": [
        "model.compile(loss=\"categorical_crossentropy\", metrics=[\"accuracy\"])\n",
        "model.summary()"
      ],
      "execution_count": 7,
      "outputs": [
        {
          "output_type": "stream",
          "text": [
            "Model: \"sequential\"\n",
            "_________________________________________________________________\n",
            "Layer (type)                 Output Shape              Param #   \n",
            "=================================================================\n",
            "batch_normalization (BatchNo (None, 28, 28, 1)         4         \n",
            "_________________________________________________________________\n",
            "conv2d (Conv2D)              (None, 26, 26, 16)        160       \n",
            "_________________________________________________________________\n",
            "batch_normalization_1 (Batch (None, 26, 26, 16)        64        \n",
            "_________________________________________________________________\n",
            "leaky_re_lu (LeakyReLU)      (None, 26, 26, 16)        0         \n",
            "_________________________________________________________________\n",
            "conv2d_1 (Conv2D)            (None, 24, 24, 32)        4640      \n",
            "_________________________________________________________________\n",
            "batch_normalization_2 (Batch (None, 24, 24, 32)        128       \n",
            "_________________________________________________________________\n",
            "leaky_re_lu_1 (LeakyReLU)    (None, 24, 24, 32)        0         \n",
            "_________________________________________________________________\n",
            "batch_normalization_3 (Batch (None, 24, 24, 32)        128       \n",
            "_________________________________________________________________\n",
            "max_pooling2d (MaxPooling2D) (None, 12, 12, 32)        0         \n",
            "_________________________________________________________________\n",
            "conv2d_2 (Conv2D)            (None, 10, 10, 32)        9248      \n",
            "_________________________________________________________________\n",
            "batch_normalization_4 (Batch (None, 10, 10, 32)        128       \n",
            "_________________________________________________________________\n",
            "leaky_re_lu_2 (LeakyReLU)    (None, 10, 10, 32)        0         \n",
            "_________________________________________________________________\n",
            "conv2d_3 (Conv2D)            (None, 8, 8, 64)          18496     \n",
            "_________________________________________________________________\n",
            "batch_normalization_5 (Batch (None, 8, 8, 64)          256       \n",
            "_________________________________________________________________\n",
            "leaky_re_lu_3 (LeakyReLU)    (None, 8, 8, 64)          0         \n",
            "_________________________________________________________________\n",
            "flatten (Flatten)            (None, 4096)              0         \n",
            "_________________________________________________________________\n",
            "dense (Dense)                (None, 256)               1048832   \n",
            "_________________________________________________________________\n",
            "batch_normalization_6 (Batch (None, 256)               1024      \n",
            "_________________________________________________________________\n",
            "leaky_re_lu_4 (LeakyReLU)    (None, 256)               0         \n",
            "_________________________________________________________________\n",
            "dense_1 (Dense)              (None, 10)                2570      \n",
            "_________________________________________________________________\n",
            "activation (Activation)      (None, 10)                0         \n",
            "=================================================================\n",
            "Total params: 1,085,678\n",
            "Trainable params: 1,084,812\n",
            "Non-trainable params: 866\n",
            "_________________________________________________________________\n"
          ],
          "name": "stdout"
        }
      ]
    },
    {
      "cell_type": "markdown",
      "metadata": {
        "id": "24VNfcMWHaKJ"
      },
      "source": [
        "# Обучение модели\n",
        "\n",
        "val_accuracy > 0.85 - 1 балл\n",
        "\n",
        "val_accuracy > 0.88 - 2 балла\n",
        "\n",
        "val_accuracy > 0.91 - 3 балла\n",
        "\n",
        "val_accuracy > 0.92 - 4 балла\n",
        "\n",
        "\n",
        "**Максимальный суммарный балл** - 11\n",
        "\n",
        "**Финальная оценка**: min(суммарный балл, 10)\n"
      ]
    },
    {
      "cell_type": "code",
      "metadata": {
        "colab": {
          "base_uri": "https://localhost:8080/"
        },
        "id": "JeANKvriwgOX",
        "scrolled": true,
        "outputId": "02746df9-1b5d-40a6-cc73-c53b693fd8b1"
      },
      "source": [
        "step_size_train = (train_generator.n // train_generator.batch_size)\n",
        "step_size_valid = (validation_generator.n // validation_generator.batch_size)\n",
        "\n",
        "history = model.fit(\n",
        "        train_generator,\n",
        "        steps_per_epoch=step_size_train,\n",
        "        epochs=10,\n",
        "        verbose=1,\n",
        "        validation_data=validation_generator,\n",
        "        validation_steps=step_size_valid)"
      ],
      "execution_count": 8,
      "outputs": [
        {
          "output_type": "stream",
          "text": [
            "Epoch 1/10\n",
            "14881/14881 [==============================] - 276s 18ms/step - loss: 0.4756 - accuracy: 0.8589 - val_loss: 0.2459 - val_accuracy: 0.9301\n",
            "Epoch 2/10\n",
            "14881/14881 [==============================] - 269s 18ms/step - loss: 0.3330 - accuracy: 0.9011 - val_loss: 0.2269 - val_accuracy: 0.9339\n",
            "Epoch 3/10\n",
            "14881/14881 [==============================] - 270s 18ms/step - loss: 0.3092 - accuracy: 0.9079 - val_loss: 0.2202 - val_accuracy: 0.9381\n",
            "Epoch 4/10\n",
            "14881/14881 [==============================] - 272s 18ms/step - loss: 0.2983 - accuracy: 0.9107 - val_loss: 0.2178 - val_accuracy: 0.9363\n",
            "Epoch 5/10\n",
            "14881/14881 [==============================] - 270s 18ms/step - loss: 0.2891 - accuracy: 0.9136 - val_loss: 0.2096 - val_accuracy: 0.9386\n",
            "Epoch 6/10\n",
            "14881/14881 [==============================] - 268s 18ms/step - loss: 0.2836 - accuracy: 0.9148 - val_loss: 0.2491 - val_accuracy: 0.9303\n",
            "Epoch 7/10\n",
            "14881/14881 [==============================] - 269s 18ms/step - loss: 0.2807 - accuracy: 0.9160 - val_loss: 0.2080 - val_accuracy: 0.9404\n",
            "Epoch 8/10\n",
            "14881/14881 [==============================] - 271s 18ms/step - loss: 0.2753 - accuracy: 0.9177 - val_loss: 0.2120 - val_accuracy: 0.9396\n",
            "Epoch 9/10\n",
            "14881/14881 [==============================] - 270s 18ms/step - loss: 0.2744 - accuracy: 0.9177 - val_loss: 0.2183 - val_accuracy: 0.9395\n",
            "Epoch 10/10\n",
            "14881/14881 [==============================] - 266s 18ms/step - loss: 0.2660 - accuracy: 0.9195 - val_loss: 0.2154 - val_accuracy: 0.9376\n"
          ],
          "name": "stdout"
        }
      ]
    }
  ]
}
